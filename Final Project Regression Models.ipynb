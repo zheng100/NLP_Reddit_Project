{
 "cells": [
  {
   "cell_type": "code",
   "execution_count": 2,
   "metadata": {},
   "outputs": [
    {
     "name": "stderr",
     "output_type": "stream",
     "text": [
      "c:\\users\\thyne\\appdata\\local\\programs\\python\\python36-32\\lib\\site-packages\\sklearn\\ensemble\\weight_boosting.py:29: DeprecationWarning: numpy.core.umath_tests is an internal NumPy module and should not be imported. It will be removed in a future NumPy release.\n",
      "  from numpy.core.umath_tests import inner1d\n"
     ]
    }
   ],
   "source": [
    "#Preliminaries\n",
    "\n",
    "import pandas as pd\n",
    "import numpy as np\n",
    "import seaborn as sns\n",
    "import matplotlib.pyplot as plt\n",
    "\n",
    "\n",
    "from sklearn.model_selection import train_test_split\n",
    "from sklearn.utils import resample\n",
    "from sklearn import linear_model\n",
    "from sklearn import ensemble\n",
    "#pd.set_option('display.max_columns', None) #show all columns in the dataframe"
   ]
  },
  {
   "cell_type": "code",
   "execution_count": 4,
   "metadata": {},
   "outputs": [],
   "source": [
    "#DATA SETUP - PANDAS\n",
    "#read the CSV into a pandas dataframe\n",
    "df = pd.read_excel(\"259_finalproject_data.xlsx\")\n",
    "df2 = df.loc[:, ['Global_id', 'comment_index', 'comment_text', 'reply_index', 'FLAG_ABTRIATION', 'Final_Label']].rename({'FLAG_ABTRIATION': 'flag_resolution'}, axis=1)"
   ]
  },
  {
   "cell_type": "code",
   "execution_count": 5,
   "metadata": {},
   "outputs": [
    {
     "data": {
      "text/plain": [
       "Global_id          0\n",
       "comment_index      0\n",
       "comment_text       0\n",
       "reply_index        0\n",
       "flag_resolution    0\n",
       "Final_Label        0\n",
       "dtype: int64"
      ]
     },
     "execution_count": 5,
     "metadata": {},
     "output_type": "execute_result"
    }
   ],
   "source": [
    "df2.isnull().sum()"
   ]
  },
  {
   "cell_type": "code",
   "execution_count": 6,
   "metadata": {},
   "outputs": [
    {
     "data": {
      "text/html": [
       "<div>\n",
       "<style scoped>\n",
       "    .dataframe tbody tr th:only-of-type {\n",
       "        vertical-align: middle;\n",
       "    }\n",
       "\n",
       "    .dataframe tbody tr th {\n",
       "        vertical-align: top;\n",
       "    }\n",
       "\n",
       "    .dataframe thead th {\n",
       "        text-align: right;\n",
       "    }\n",
       "</style>\n",
       "<table border=\"1\" class=\"dataframe\">\n",
       "  <thead>\n",
       "    <tr style=\"text-align: right;\">\n",
       "      <th></th>\n",
       "      <th>Global_id</th>\n",
       "      <th>comment_index</th>\n",
       "      <th>reply_index</th>\n",
       "      <th>flag_resolution</th>\n",
       "      <th>Final_Label</th>\n",
       "    </tr>\n",
       "  </thead>\n",
       "  <tbody>\n",
       "    <tr>\n",
       "      <th>count</th>\n",
       "      <td>599.000000</td>\n",
       "      <td>599.000000</td>\n",
       "      <td>599.000000</td>\n",
       "      <td>599.000000</td>\n",
       "      <td>599.000000</td>\n",
       "    </tr>\n",
       "    <tr>\n",
       "      <th>mean</th>\n",
       "      <td>299.000000</td>\n",
       "      <td>59.415693</td>\n",
       "      <td>1.996661</td>\n",
       "      <td>0.212020</td>\n",
       "      <td>0.076795</td>\n",
       "    </tr>\n",
       "    <tr>\n",
       "      <th>std</th>\n",
       "      <td>173.060683</td>\n",
       "      <td>34.636080</td>\n",
       "      <td>1.414210</td>\n",
       "      <td>0.487423</td>\n",
       "      <td>0.266488</td>\n",
       "    </tr>\n",
       "    <tr>\n",
       "      <th>min</th>\n",
       "      <td>0.000000</td>\n",
       "      <td>0.000000</td>\n",
       "      <td>0.000000</td>\n",
       "      <td>0.000000</td>\n",
       "      <td>0.000000</td>\n",
       "    </tr>\n",
       "    <tr>\n",
       "      <th>25%</th>\n",
       "      <td>149.500000</td>\n",
       "      <td>29.500000</td>\n",
       "      <td>1.000000</td>\n",
       "      <td>0.000000</td>\n",
       "      <td>0.000000</td>\n",
       "    </tr>\n",
       "    <tr>\n",
       "      <th>50%</th>\n",
       "      <td>299.000000</td>\n",
       "      <td>59.000000</td>\n",
       "      <td>2.000000</td>\n",
       "      <td>0.000000</td>\n",
       "      <td>0.000000</td>\n",
       "    </tr>\n",
       "    <tr>\n",
       "      <th>75%</th>\n",
       "      <td>448.500000</td>\n",
       "      <td>89.000000</td>\n",
       "      <td>3.000000</td>\n",
       "      <td>0.000000</td>\n",
       "      <td>0.000000</td>\n",
       "    </tr>\n",
       "    <tr>\n",
       "      <th>max</th>\n",
       "      <td>598.000000</td>\n",
       "      <td>119.000000</td>\n",
       "      <td>4.000000</td>\n",
       "      <td>2.000000</td>\n",
       "      <td>1.000000</td>\n",
       "    </tr>\n",
       "  </tbody>\n",
       "</table>\n",
       "</div>"
      ],
      "text/plain": [
       "        Global_id  comment_index  reply_index  flag_resolution  Final_Label\n",
       "count  599.000000     599.000000   599.000000       599.000000   599.000000\n",
       "mean   299.000000      59.415693     1.996661         0.212020     0.076795\n",
       "std    173.060683      34.636080     1.414210         0.487423     0.266488\n",
       "min      0.000000       0.000000     0.000000         0.000000     0.000000\n",
       "25%    149.500000      29.500000     1.000000         0.000000     0.000000\n",
       "50%    299.000000      59.000000     2.000000         0.000000     0.000000\n",
       "75%    448.500000      89.000000     3.000000         0.000000     0.000000\n",
       "max    598.000000     119.000000     4.000000         2.000000     1.000000"
      ]
     },
     "execution_count": 6,
     "metadata": {},
     "output_type": "execute_result"
    }
   ],
   "source": [
    "df2.describe()"
   ]
  },
  {
   "cell_type": "markdown",
   "metadata": {},
   "source": [
    "- 7.7% inflammatory \"replies\"\n",
    "- 21% needed resolution"
   ]
  },
  {
   "cell_type": "code",
   "execution_count": 7,
   "metadata": {},
   "outputs": [
    {
     "data": {
      "text/html": [
       "<div>\n",
       "<style scoped>\n",
       "    .dataframe tbody tr th:only-of-type {\n",
       "        vertical-align: middle;\n",
       "    }\n",
       "\n",
       "    .dataframe tbody tr th {\n",
       "        vertical-align: top;\n",
       "    }\n",
       "\n",
       "    .dataframe thead th {\n",
       "        text-align: right;\n",
       "    }\n",
       "</style>\n",
       "<table border=\"1\" class=\"dataframe\">\n",
       "  <thead>\n",
       "    <tr style=\"text-align: right;\">\n",
       "      <th></th>\n",
       "      <th>Global_id</th>\n",
       "      <th>comment_index</th>\n",
       "      <th>comment_text</th>\n",
       "      <th>reply_index</th>\n",
       "      <th>flag_resolution</th>\n",
       "      <th>Final_Label</th>\n",
       "    </tr>\n",
       "  </thead>\n",
       "  <tbody>\n",
       "    <tr>\n",
       "      <th>0</th>\n",
       "      <td>0</td>\n",
       "      <td>0</td>\n",
       "      <td>I was in the Navy, and I used to take smoke br...</td>\n",
       "      <td>0</td>\n",
       "      <td>0</td>\n",
       "      <td>0</td>\n",
       "    </tr>\n",
       "    <tr>\n",
       "      <th>1</th>\n",
       "      <td>1</td>\n",
       "      <td>0</td>\n",
       "      <td>I was in the Navy, and I used to take smoke br...</td>\n",
       "      <td>1</td>\n",
       "      <td>0</td>\n",
       "      <td>0</td>\n",
       "    </tr>\n",
       "    <tr>\n",
       "      <th>2</th>\n",
       "      <td>2</td>\n",
       "      <td>0</td>\n",
       "      <td>I was in the Navy, and I used to take smoke br...</td>\n",
       "      <td>2</td>\n",
       "      <td>0</td>\n",
       "      <td>0</td>\n",
       "    </tr>\n",
       "    <tr>\n",
       "      <th>3</th>\n",
       "      <td>3</td>\n",
       "      <td>0</td>\n",
       "      <td>I was in the Navy, and I used to take smoke br...</td>\n",
       "      <td>3</td>\n",
       "      <td>0</td>\n",
       "      <td>0</td>\n",
       "    </tr>\n",
       "    <tr>\n",
       "      <th>4</th>\n",
       "      <td>4</td>\n",
       "      <td>0</td>\n",
       "      <td>I was in the Navy, and I used to take smoke br...</td>\n",
       "      <td>4</td>\n",
       "      <td>0</td>\n",
       "      <td>0</td>\n",
       "    </tr>\n",
       "    <tr>\n",
       "      <th>5</th>\n",
       "      <td>5</td>\n",
       "      <td>1</td>\n",
       "      <td>&gt;\"One of our non-smoking staff put a message i...</td>\n",
       "      <td>0</td>\n",
       "      <td>0</td>\n",
       "      <td>0</td>\n",
       "    </tr>\n",
       "    <tr>\n",
       "      <th>6</th>\n",
       "      <td>6</td>\n",
       "      <td>1</td>\n",
       "      <td>&gt;\"One of our non-smoking staff put a message i...</td>\n",
       "      <td>1</td>\n",
       "      <td>0</td>\n",
       "      <td>0</td>\n",
       "    </tr>\n",
       "    <tr>\n",
       "      <th>7</th>\n",
       "      <td>7</td>\n",
       "      <td>1</td>\n",
       "      <td>&gt;\"One of our non-smoking staff put a message i...</td>\n",
       "      <td>2</td>\n",
       "      <td>0</td>\n",
       "      <td>0</td>\n",
       "    </tr>\n",
       "    <tr>\n",
       "      <th>8</th>\n",
       "      <td>8</td>\n",
       "      <td>1</td>\n",
       "      <td>&gt;\"One of our non-smoking staff put a message i...</td>\n",
       "      <td>3</td>\n",
       "      <td>0</td>\n",
       "      <td>0</td>\n",
       "    </tr>\n",
       "    <tr>\n",
       "      <th>9</th>\n",
       "      <td>9</td>\n",
       "      <td>1</td>\n",
       "      <td>&gt;\"One of our non-smoking staff put a message i...</td>\n",
       "      <td>4</td>\n",
       "      <td>0</td>\n",
       "      <td>0</td>\n",
       "    </tr>\n",
       "    <tr>\n",
       "      <th>10</th>\n",
       "      <td>10</td>\n",
       "      <td>2</td>\n",
       "      <td>One of my best friends had never smoked before...</td>\n",
       "      <td>0</td>\n",
       "      <td>1</td>\n",
       "      <td>0</td>\n",
       "    </tr>\n",
       "    <tr>\n",
       "      <th>11</th>\n",
       "      <td>11</td>\n",
       "      <td>2</td>\n",
       "      <td>One of my best friends had never smoked before...</td>\n",
       "      <td>1</td>\n",
       "      <td>0</td>\n",
       "      <td>0</td>\n",
       "    </tr>\n",
       "    <tr>\n",
       "      <th>12</th>\n",
       "      <td>12</td>\n",
       "      <td>2</td>\n",
       "      <td>One of my best friends had never smoked before...</td>\n",
       "      <td>2</td>\n",
       "      <td>0</td>\n",
       "      <td>0</td>\n",
       "    </tr>\n",
       "    <tr>\n",
       "      <th>13</th>\n",
       "      <td>13</td>\n",
       "      <td>2</td>\n",
       "      <td>One of my best friends had never smoked before...</td>\n",
       "      <td>3</td>\n",
       "      <td>0</td>\n",
       "      <td>0</td>\n",
       "    </tr>\n",
       "    <tr>\n",
       "      <th>14</th>\n",
       "      <td>14</td>\n",
       "      <td>2</td>\n",
       "      <td>One of my best friends had never smoked before...</td>\n",
       "      <td>4</td>\n",
       "      <td>0</td>\n",
       "      <td>0</td>\n",
       "    </tr>\n",
       "  </tbody>\n",
       "</table>\n",
       "</div>"
      ],
      "text/plain": [
       "    Global_id  comment_index  \\\n",
       "0           0              0   \n",
       "1           1              0   \n",
       "2           2              0   \n",
       "3           3              0   \n",
       "4           4              0   \n",
       "5           5              1   \n",
       "6           6              1   \n",
       "7           7              1   \n",
       "8           8              1   \n",
       "9           9              1   \n",
       "10         10              2   \n",
       "11         11              2   \n",
       "12         12              2   \n",
       "13         13              2   \n",
       "14         14              2   \n",
       "\n",
       "                                         comment_text  reply_index  \\\n",
       "0   I was in the Navy, and I used to take smoke br...            0   \n",
       "1   I was in the Navy, and I used to take smoke br...            1   \n",
       "2   I was in the Navy, and I used to take smoke br...            2   \n",
       "3   I was in the Navy, and I used to take smoke br...            3   \n",
       "4   I was in the Navy, and I used to take smoke br...            4   \n",
       "5   >\"One of our non-smoking staff put a message i...            0   \n",
       "6   >\"One of our non-smoking staff put a message i...            1   \n",
       "7   >\"One of our non-smoking staff put a message i...            2   \n",
       "8   >\"One of our non-smoking staff put a message i...            3   \n",
       "9   >\"One of our non-smoking staff put a message i...            4   \n",
       "10  One of my best friends had never smoked before...            0   \n",
       "11  One of my best friends had never smoked before...            1   \n",
       "12  One of my best friends had never smoked before...            2   \n",
       "13  One of my best friends had never smoked before...            3   \n",
       "14  One of my best friends had never smoked before...            4   \n",
       "\n",
       "    flag_resolution  Final_Label  \n",
       "0                 0            0  \n",
       "1                 0            0  \n",
       "2                 0            0  \n",
       "3                 0            0  \n",
       "4                 0            0  \n",
       "5                 0            0  \n",
       "6                 0            0  \n",
       "7                 0            0  \n",
       "8                 0            0  \n",
       "9                 0            0  \n",
       "10                1            0  \n",
       "11                0            0  \n",
       "12                0            0  \n",
       "13                0            0  \n",
       "14                0            0  "
      ]
     },
     "execution_count": 7,
     "metadata": {},
     "output_type": "execute_result"
    }
   ],
   "source": [
    "df2.head(15)"
   ]
  },
  {
   "cell_type": "code",
   "execution_count": 8,
   "metadata": {},
   "outputs": [],
   "source": [
    "dfc =df2.groupby('comment_index').agg({'comment_text':'first', 'Final_Label': 'sum'})\n",
    "dfc = dfc.rename(columns ={'Final_Label':'Comment Score'}).reset_index()"
   ]
  },
  {
   "cell_type": "code",
   "execution_count": 9,
   "metadata": {},
   "outputs": [
    {
     "data": {
      "text/html": [
       "<div>\n",
       "<style scoped>\n",
       "    .dataframe tbody tr th:only-of-type {\n",
       "        vertical-align: middle;\n",
       "    }\n",
       "\n",
       "    .dataframe tbody tr th {\n",
       "        vertical-align: top;\n",
       "    }\n",
       "\n",
       "    .dataframe thead th {\n",
       "        text-align: right;\n",
       "    }\n",
       "</style>\n",
       "<table border=\"1\" class=\"dataframe\">\n",
       "  <thead>\n",
       "    <tr style=\"text-align: right;\">\n",
       "      <th></th>\n",
       "      <th>comment_index</th>\n",
       "      <th>comment_text</th>\n",
       "      <th>Comment Score</th>\n",
       "    </tr>\n",
       "  </thead>\n",
       "  <tbody>\n",
       "    <tr>\n",
       "      <th>0</th>\n",
       "      <td>0</td>\n",
       "      <td>I was in the Navy, and I used to take smoke br...</td>\n",
       "      <td>0</td>\n",
       "    </tr>\n",
       "    <tr>\n",
       "      <th>1</th>\n",
       "      <td>1</td>\n",
       "      <td>&gt;\"One of our non-smoking staff put a message i...</td>\n",
       "      <td>0</td>\n",
       "    </tr>\n",
       "    <tr>\n",
       "      <th>2</th>\n",
       "      <td>2</td>\n",
       "      <td>One of my best friends had never smoked before...</td>\n",
       "      <td>0</td>\n",
       "    </tr>\n",
       "    <tr>\n",
       "      <th>3</th>\n",
       "      <td>3</td>\n",
       "      <td>Positive reinforcement is effective. I wish mo...</td>\n",
       "      <td>0</td>\n",
       "    </tr>\n",
       "    <tr>\n",
       "      <th>4</th>\n",
       "      <td>4</td>\n",
       "      <td>When I used to smoke, I'd do it at 10 o'clock ...</td>\n",
       "      <td>0</td>\n",
       "    </tr>\n",
       "  </tbody>\n",
       "</table>\n",
       "</div>"
      ],
      "text/plain": [
       "   comment_index                                       comment_text  \\\n",
       "0              0  I was in the Navy, and I used to take smoke br...   \n",
       "1              1  >\"One of our non-smoking staff put a message i...   \n",
       "2              2  One of my best friends had never smoked before...   \n",
       "3              3  Positive reinforcement is effective. I wish mo...   \n",
       "4              4  When I used to smoke, I'd do it at 10 o'clock ...   \n",
       "\n",
       "   Comment Score  \n",
       "0              0  \n",
       "1              0  \n",
       "2              0  \n",
       "3              0  \n",
       "4              0  "
      ]
     },
     "execution_count": 9,
     "metadata": {},
     "output_type": "execute_result"
    }
   ],
   "source": [
    "dfc.head()"
   ]
  },
  {
   "cell_type": "code",
   "execution_count": 10,
   "metadata": {},
   "outputs": [
    {
     "data": {
      "text/html": [
       "<div>\n",
       "<style scoped>\n",
       "    .dataframe tbody tr th:only-of-type {\n",
       "        vertical-align: middle;\n",
       "    }\n",
       "\n",
       "    .dataframe tbody tr th {\n",
       "        vertical-align: top;\n",
       "    }\n",
       "\n",
       "    .dataframe thead th {\n",
       "        text-align: right;\n",
       "    }\n",
       "</style>\n",
       "<table border=\"1\" class=\"dataframe\">\n",
       "  <thead>\n",
       "    <tr style=\"text-align: right;\">\n",
       "      <th></th>\n",
       "      <th>comment_index</th>\n",
       "      <th>Comment Score</th>\n",
       "    </tr>\n",
       "  </thead>\n",
       "  <tbody>\n",
       "    <tr>\n",
       "      <th>count</th>\n",
       "      <td>120.000000</td>\n",
       "      <td>120.000000</td>\n",
       "    </tr>\n",
       "    <tr>\n",
       "      <th>mean</th>\n",
       "      <td>59.500000</td>\n",
       "      <td>0.383333</td>\n",
       "    </tr>\n",
       "    <tr>\n",
       "      <th>std</th>\n",
       "      <td>34.785054</td>\n",
       "      <td>0.712238</td>\n",
       "    </tr>\n",
       "    <tr>\n",
       "      <th>min</th>\n",
       "      <td>0.000000</td>\n",
       "      <td>0.000000</td>\n",
       "    </tr>\n",
       "    <tr>\n",
       "      <th>25%</th>\n",
       "      <td>29.750000</td>\n",
       "      <td>0.000000</td>\n",
       "    </tr>\n",
       "    <tr>\n",
       "      <th>50%</th>\n",
       "      <td>59.500000</td>\n",
       "      <td>0.000000</td>\n",
       "    </tr>\n",
       "    <tr>\n",
       "      <th>75%</th>\n",
       "      <td>89.250000</td>\n",
       "      <td>1.000000</td>\n",
       "    </tr>\n",
       "    <tr>\n",
       "      <th>max</th>\n",
       "      <td>119.000000</td>\n",
       "      <td>4.000000</td>\n",
       "    </tr>\n",
       "  </tbody>\n",
       "</table>\n",
       "</div>"
      ],
      "text/plain": [
       "       comment_index  Comment Score\n",
       "count     120.000000     120.000000\n",
       "mean       59.500000       0.383333\n",
       "std        34.785054       0.712238\n",
       "min         0.000000       0.000000\n",
       "25%        29.750000       0.000000\n",
       "50%        59.500000       0.000000\n",
       "75%        89.250000       1.000000\n",
       "max       119.000000       4.000000"
      ]
     },
     "execution_count": 10,
     "metadata": {},
     "output_type": "execute_result"
    }
   ],
   "source": [
    "dfc.describe()"
   ]
  },
  {
   "cell_type": "code",
   "execution_count": 11,
   "metadata": {},
   "outputs": [
    {
     "data": {
      "text/plain": [
       "(array([86., 25.,  7.,  1.,  1.]),\n",
       " array([-0.5,  0.5,  1.5,  2.5,  3.5,  4.5]),\n",
       " <a list of 5 Patch objects>)"
      ]
     },
     "execution_count": 11,
     "metadata": {},
     "output_type": "execute_result"
    },
    {
     "data": {
      "image/png": "[encoded data removed]",
      "text/plain": [
       "<Figure size 432x288 with 1 Axes>"
      ]
     },
     "metadata": {
      "needs_background": "light"
     },
     "output_type": "display_data"
    }
   ],
   "source": [
    "plt.hist(dfc['Comment Score'], bins=[-0.5,0.5, 1.5,2.5,3.5,4.5])"
   ]
  },
  {
   "cell_type": "markdown",
   "metadata": {},
   "source": [
    "- mean score: 0.383\n",
    "- max : 4\n",
    "- top 25%: still a score of 1"
   ]
  },
  {
   "cell_type": "markdown",
   "metadata": {},
   "source": [
    "## Splitting the Data: Dealing with Imbalanced Data"
   ]
  },
  {
   "cell_type": "markdown",
   "metadata": {},
   "source": [
    "Oversampling comments with scores greater than 0"
   ]
  },
  {
   "cell_type": "code",
   "execution_count": 12,
   "metadata": {},
   "outputs": [],
   "source": [
    "y = dfc[['Comment Score']]\n",
    "X = dfc.drop('Comment Score', axis =1)\n",
    "#Split the dataset, stratify on y values\n",
    "X_train, X_test, y_train, y_test = train_test_split(X, y, test_size = 0.25, random_state =42)"
   ]
  },
  {
   "cell_type": "code",
   "execution_count": 13,
   "metadata": {},
   "outputs": [
    {
     "name": "stdout",
     "output_type": "stream",
     "text": [
      "0    65\n",
      "1    17\n",
      "2     6\n",
      "4     1\n",
      "3     1\n",
      "Name: Comment Score, dtype: int64\n"
     ]
    },
    {
     "data": {
      "text/plain": [
       "0    65\n",
       "1    46\n",
       "2    15\n",
       "4     3\n",
       "3     1\n",
       "Name: Comment Score, dtype: int64"
      ]
     },
     "execution_count": 13,
     "metadata": {},
     "output_type": "execute_result"
    }
   ],
   "source": [
    "# concatenate our training data back together\n",
    "X = pd.concat([X_train, y_train], axis=1)\n",
    "\n",
    "print(X['Comment Score'].value_counts())\n",
    "\n",
    "# separate minority and majority classes\n",
    "ninf = X[X['Comment Score']==0]\n",
    "inf = X[X['Comment Score']!= 0] #every other score\n",
    "\n",
    "# upsample minority\n",
    "inf_upsampled = resample(inf,\n",
    "                          replace=True, # sample with replacement\n",
    "                          n_samples=len(ninf), # match number in majority class\n",
    "                          random_state=42) # reproducible results\n",
    "\n",
    "# combine majority and upsampled minority\n",
    "upsampled = pd.concat([ninf, inf_upsampled])\n",
    "\n",
    "# check new class counts\n",
    "upsampled['Comment Score'].value_counts()\n"
   ]
  },
  {
   "cell_type": "code",
   "execution_count": 14,
   "metadata": {},
   "outputs": [],
   "source": [
    "#recreate X, y training set\n",
    "y_train = upsampled[['Comment Score']]\n",
    "X_train = upsampled.drop('Comment Score', axis =1)"
   ]
  },
  {
   "cell_type": "code",
   "execution_count": 23,
   "metadata": {},
   "outputs": [
    {
     "data": {
      "text/plain": [
       "array([0, 1, 4, 2, 3], dtype=int64)"
      ]
     },
     "execution_count": 23,
     "metadata": {},
     "output_type": "execute_result"
    }
   ],
   "source": [
    "y_train['Comment Score'].unique()"
   ]
  },
  {
   "cell_type": "code",
   "execution_count": 192,
   "metadata": {},
   "outputs": [],
   "source": [
    "from vaderSentiment.vaderSentiment import SentimentIntensityAnalyzer\n",
    "analyser = SentimentIntensityAnalyzer()\n",
    "\n",
    "def sentiment_analyzer_scores(comment):\n",
    "    comment = comment.lower()\n",
    "    score = analyser.polarity_scores(comment)\n",
    "    return(score)\n",
    "\n",
    "def getNegScore(comment):\n",
    "    comment = comment.lower()\n",
    "    return(analyser.polarity_scores(comment)['neg'])\n",
    "\n",
    "def getPosScore(comment):\n",
    "    comment = comment.lower()\n",
    "    return(analyser.polarity_scores(comment)['pos'])\n",
    "\n",
    "def getNeuScore(comment):\n",
    "    comment = comment.lower()\n",
    "    return(analyser.polarity_scores(comment)['neu'])\n",
    "    \n",
    "def getNumSwears(comment):\n",
    "    comment = comment.lower()\n",
    "    swearList = [\"ass\", \"arse\", \"bastard\", \"bitch\", \"crap\", \"cunt\", \"damn\", \"fuck\", \"hell\", \"nigga\", \"nigger\", \"prick\", \"shit\", \"slut\", \"whore\", \"twat\"]\n",
    "    count = 0\n",
    "    for s in swearList:\n",
    "        if s in comment:\n",
    "            count += 1\n",
    "    return(count)\n",
    "\n",
    "def getNumYou(comment):\n",
    "    comment = comment.lower()\n",
    "    count = 0\n",
    "    words = comment.split(\" \")\n",
    "    for w in words:\n",
    "        if \"you\" in w:\n",
    "            count += 1\n",
    "    return(count)\n",
    "\n",
    "def hasEdit(comment):\n",
    "    comment = comment.lower()\n",
    "    if \"edit\" in comment:\n",
    "        return(1)\n",
    "    else:\n",
    "        return(0)\n",
    "    \n",
    "def hasThanks(comment):\n",
    "    comment = comment.lower()\n",
    "    if \"thank\" in comment:\n",
    "        return(1)\n",
    "    return(0)\n",
    "\n",
    "def hasLikeLove(comment):\n",
    "    comment = comment.lower()\n",
    "    if \"like\" in comment or \"love\" in comment:\n",
    "        return(1)\n",
    "    return(0)\n",
    "\n",
    "def hasPlease(comment):\n",
    "    comment = comment.lower()\n",
    "    if \"please\" in comment:\n",
    "        return(1)\n",
    "    return(0)\n",
    "\n",
    "def numLaugh(comment):\n",
    "    comment = comment.lower()\n",
    "    laughList = ['haha', 'ha ', ' ha.', 'lol', 'lmao', 'lmfao', ' lul ', 'lul ', 'hehe']\n",
    "    count = 0\n",
    "    for l in laughList:\n",
    "        if l in comment:\n",
    "            count += 1\n",
    "    return(count)\n"
   ]
  },
  {
   "cell_type": "code",
   "execution_count": 193,
   "metadata": {},
   "outputs": [
    {
     "data": {
      "text/plain": [
       "1.0"
      ]
     },
     "execution_count": 193,
     "metadata": {},
     "output_type": "execute_result"
    }
   ],
   "source": [
    "getNeuScore('this is a test')"
   ]
  },
  {
   "cell_type": "code",
   "execution_count": 194,
   "metadata": {},
   "outputs": [],
   "source": [
    "X_train['comment_num_swears'] = X_train[\"comment_text\"].apply(getNumSwears)\n",
    "X_train['comment_num_you'] = X_train[\"comment_text\"].apply(getNumYou)\n",
    "X_train['comment_has_edit'] = X_train[\"comment_text\"].apply(hasEdit)\n",
    "X_train['comment_has_thanks'] = X_train[\"comment_text\"].apply(hasThanks)\n",
    "X_train['comment_has_likelove'] = X_train[\"comment_text\"].apply(hasLikeLove)\n",
    "X_train['comment_has_please'] = X_train[\"comment_text\"].apply(hasPlease)\n",
    "X_train['comment_num_laughs'] = X_train[\"comment_text\"].apply(numLaugh)\n",
    "X_train['comment_neg_score'] = X_train[\"comment_text\"].apply(getNegScore)\n",
    "X_train['comment_pos_score'] = X_train[\"comment_text\"].apply(getPosScore)\n",
    "X_train['comment_neu_score'] = X_train[\"comment_text\"].apply(getNeuScore)\n",
    "\n",
    "X_test['comment_num_swears'] = X_test[\"comment_text\"].apply(getNumSwears)\n",
    "X_test['comment_num_you'] = X_test[\"comment_text\"].apply(getNumYou)\n",
    "X_test['comment_has_edit'] = X_test[\"comment_text\"].apply(hasEdit)\n",
    "X_test['comment_has_thanks'] = X_test[\"comment_text\"].apply(hasThanks)\n",
    "X_test['comment_has_likelove'] = X_test[\"comment_text\"].apply(hasLikeLove)\n",
    "X_test['comment_has_please'] = X_test[\"comment_text\"].apply(hasPlease)\n",
    "X_test['comment_num_laughs'] = X_test[\"comment_text\"].apply(numLaugh)\n",
    "X_test['comment_neg_score'] = X_test[\"comment_text\"].apply(getNegScore)\n",
    "X_test['comment_pos_score'] = X_test[\"comment_text\"].apply(getPosScore)\n",
    "X_test['comment_neu_score'] = X_test[\"comment_text\"].apply(getNeuScore)"
   ]
  },
  {
   "cell_type": "code",
   "execution_count": 195,
   "metadata": {},
   "outputs": [],
   "source": [
    "def textToMatrix(comment):\n",
    "    featureMatrix = []\n",
    "    featureMatrix.append(getNumSwears(comment))\n",
    "    featureMatrix.append(getNumYou(comment))\n",
    "    featureMatrix.append(hasEdit(comment))\n",
    "    featureMatrix.append(hasThanks(comment))\n",
    "    featureMatrix.append(hasLikeLove(comment))\n",
    "    featureMatrix.append(hasPlease(comment))\n",
    "    featureMatrix.append(numLaugh(comment))\n",
    "    featureMatrix.append(getNegScore(comment))\n",
    "    featureMatrix.append(getPosScore(comment))\n",
    "    featureMatrix.append(getNeuScore(comment))\n",
    "\n",
    "    return([featureMatrix])"
   ]
  },
  {
   "cell_type": "code",
   "execution_count": 196,
   "metadata": {},
   "outputs": [],
   "source": [
    "from sklearn.linear_model import LinearRegression\n",
    "import numpy as np"
   ]
  },
  {
   "cell_type": "code",
   "execution_count": 294,
   "metadata": {},
   "outputs": [],
   "source": [
    "def trainLinReg(train_feat, train_score, test_feat, test_score):\n",
    "    if 'comment_index' in train_feat.columns and 'comment_text' in train_feat.columns:\n",
    "        trainFeatures = train_feat.drop(['comment_index', 'comment_text'], axis = 1)\n",
    "    else: \n",
    "        trainFeatures = train_feat\n",
    "    if 'comment_index' in test_feat.columns and 'comment_text' in test_feat.columns:\n",
    "        testFeatures = test_feat.drop(['comment_index', 'comment_text'], axis = 1)\n",
    "    else:\n",
    "        testFeatures = test_feat\n",
    "\n",
    "    trainFeatMatrix = trainFeatures.to_numpy()\n",
    "    trainLabelMatrix = train_score['Comment Score'].to_numpy()\n",
    "\n",
    "    testFeatMatrix = testFeatures.to_numpy()\n",
    "    testLabelMatrix = test_score['Comment Score'].to_numpy()\n",
    "    \n",
    "    lin_reg = LinearRegression().fit(trainFeatMatrix, trainLabelMatrix)\n",
    "    pred = lin_reg.predict(testFeatMatrix)\n",
    "    \n",
    "    MSE = sum(pow(testLabelMatrix-pred,2))\n",
    "    baselinePred = np.full(pred.shape[0], train_score['Comment Score'].describe()['mean'])\n",
    "    baselineMSE = sum(pow(testLabelMatrix-baselinePred,2))\n",
    "    \n",
    "    return(lin_reg, pred, MSE, baselineMSE)"
   ]
  },
  {
   "cell_type": "code",
   "execution_count": 295,
   "metadata": {},
   "outputs": [
    {
     "data": {
      "text/plain": [
       "(13.26399527011446, 12.700000000000001)"
      ]
     },
     "execution_count": 295,
     "metadata": {},
     "output_type": "execute_result"
    }
   ],
   "source": [
    "lin_model, lin_pred, lin_MSE, lin_baselineMSE = trainLinReg(X_train, y_train, X_test, y_test)\n",
    "lin_MSE, lin_baselineMSE"
   ]
  },
  {
   "cell_type": "code",
   "execution_count": 268,
   "metadata": {},
   "outputs": [],
   "source": [
    "from sklearn.ensemble import RandomForestRegressor\n",
    "\n",
    "def trainRFReg(train_feat, train_score, test_feat, test_score):\n",
    "    if 'comment_index' in train_feat.columns and 'comment_text' in train_feat.columns:\n",
    "        trainFeatures = train_feat.drop(['comment_index', 'comment_text'], axis = 1)\n",
    "    else: \n",
    "        trainFeatures = train_feat\n",
    "    if 'comment_index' in test_feat.columns and 'comment_text' in test_feat.columns:\n",
    "        testFeatures = test_feat.drop(['comment_index', 'comment_text'], axis = 1)\n",
    "    else:\n",
    "        testFeatures = test_feat\n",
    "\n",
    "    trainFeatMatrix = trainFeatures.to_numpy()\n",
    "    print(trainFeatMatrix[0])\n",
    "    trainLabelMatrix = train_score['Comment Score'].to_numpy()\n",
    "\n",
    "    testFeatMatrix = testFeatures.to_numpy()\n",
    "    testLabelMatrix = test_score['Comment Score'].to_numpy()\n",
    "    \n",
    "    rf_reg = RandomForestRegressor(max_depth = 3)\n",
    "    rf_reg.fit(trainFeatMatrix, trainLabelMatrix)\n",
    "    pred = rf_reg.predict(testFeatMatrix)\n",
    "    \n",
    "    MSE = sum(pow(testLabelMatrix-pred,2))\n",
    "    baselinePred = np.full(pred.shape[0], train_score['Comment Score'].describe()['mean'])\n",
    "    baselineMSE = sum(pow(testLabelMatrix-baselinePred,2))\n",
    "    \n",
    "    return(rf_reg, pred, MSE, baselineMSE)"
   ]
  },
  {
   "cell_type": "code",
   "execution_count": 275,
   "metadata": {},
   "outputs": [
    {
     "name": "stdout",
     "output_type": "stream",
     "text": [
      "[0.    0.    0.    0.    0.    0.    0.    0.111 0.092 0.797]\n"
     ]
    },
    {
     "data": {
      "text/plain": [
       "(8.353174587097815, 12.700000000000001)"
      ]
     },
     "execution_count": 275,
     "metadata": {},
     "output_type": "execute_result"
    }
   ],
   "source": [
    "rf_model, rf_pred, rf_MSE, rf_baselineMSE = trainRFReg(X_train, y_train, X_test, y_test)\n",
    "rf_MSE, rf_baselineMSE"
   ]
  },
  {
   "cell_type": "code",
   "execution_count": 270,
   "metadata": {},
   "outputs": [
    {
     "data": {
      "text/plain": [
       "0.7"
      ]
     },
     "execution_count": 270,
     "metadata": {},
     "output_type": "execute_result"
    }
   ],
   "source": [
    "y_train['Comment Score'].describe()['mean']"
   ]
  },
  {
   "cell_type": "code",
   "execution_count": 271,
   "metadata": {},
   "outputs": [
    {
     "data": {
      "text/plain": [
       "array([0.02015891, 0.        , 0.07628436, 0.04799211, 0.21178752,\n",
       "       0.        , 0.00773203, 0.18669404, 0.0958575 , 0.35349353])"
      ]
     },
     "execution_count": 271,
     "metadata": {},
     "output_type": "execute_result"
    }
   ],
   "source": [
    "rf_model.feature_importances_"
   ]
  },
  {
   "cell_type": "code",
   "execution_count": 272,
   "metadata": {},
   "outputs": [
    {
     "data": {
      "text/plain": [
       "array([1.32971317])"
      ]
     },
     "execution_count": 272,
     "metadata": {},
     "output_type": "execute_result"
    }
   ],
   "source": [
    "inflammatoryComment = textToMatrix('you suck man, no one wants to hear from you')\n",
    "rf_model.predict(inflammatoryComment)"
   ]
  },
  {
   "cell_type": "code",
   "execution_count": 260,
   "metadata": {},
   "outputs": [
    {
     "data": {
      "text/plain": [
       "array([0.42395833])"
      ]
     },
     "execution_count": 260,
     "metadata": {},
     "output_type": "execute_result"
    }
   ],
   "source": [
    "niceComment = textToMatrix('that is cool, thanks for sharing!')\n",
    "rf_model.predict(niceComment)"
   ]
  },
  {
   "cell_type": "code",
   "execution_count": 261,
   "metadata": {},
   "outputs": [
    {
     "data": {
      "text/html": [
       "<div>\n",
       "<style scoped>\n",
       "    .dataframe tbody tr th:only-of-type {\n",
       "        vertical-align: middle;\n",
       "    }\n",
       "\n",
       "    .dataframe tbody tr th {\n",
       "        vertical-align: top;\n",
       "    }\n",
       "\n",
       "    .dataframe thead th {\n",
       "        text-align: right;\n",
       "    }\n",
       "</style>\n",
       "<table border=\"1\" class=\"dataframe\">\n",
       "  <thead>\n",
       "    <tr style=\"text-align: right;\">\n",
       "      <th></th>\n",
       "      <th>Comment Score</th>\n",
       "    </tr>\n",
       "  </thead>\n",
       "  <tbody>\n",
       "    <tr>\n",
       "      <th>count</th>\n",
       "      <td>130.000000</td>\n",
       "    </tr>\n",
       "    <tr>\n",
       "      <th>mean</th>\n",
       "      <td>0.700000</td>\n",
       "    </tr>\n",
       "    <tr>\n",
       "      <th>std</th>\n",
       "      <td>0.877364</td>\n",
       "    </tr>\n",
       "    <tr>\n",
       "      <th>min</th>\n",
       "      <td>0.000000</td>\n",
       "    </tr>\n",
       "    <tr>\n",
       "      <th>25%</th>\n",
       "      <td>0.000000</td>\n",
       "    </tr>\n",
       "    <tr>\n",
       "      <th>50%</th>\n",
       "      <td>0.500000</td>\n",
       "    </tr>\n",
       "    <tr>\n",
       "      <th>75%</th>\n",
       "      <td>1.000000</td>\n",
       "    </tr>\n",
       "    <tr>\n",
       "      <th>max</th>\n",
       "      <td>4.000000</td>\n",
       "    </tr>\n",
       "  </tbody>\n",
       "</table>\n",
       "</div>"
      ],
      "text/plain": [
       "       Comment Score\n",
       "count     130.000000\n",
       "mean        0.700000\n",
       "std         0.877364\n",
       "min         0.000000\n",
       "25%         0.000000\n",
       "50%         0.500000\n",
       "75%         1.000000\n",
       "max         4.000000"
      ]
     },
     "execution_count": 261,
     "metadata": {},
     "output_type": "execute_result"
    }
   ],
   "source": [
    "y_train.describe()"
   ]
  },
  {
   "cell_type": "code",
   "execution_count": 262,
   "metadata": {},
   "outputs": [],
   "source": [
    "X_train2 = pd.DataFrame()\n",
    "X_test2 = pd.DataFrame()\n",
    "\n",
    "X_train2['comment_num_swears'] = X_train[\"comment_text\"].apply(getNumSwears)\n",
    "X_train2['comment_num_you'] = X_train[\"comment_text\"].apply(getNumYou)\n",
    "X_train2['comment_has_edit'] = X_train[\"comment_text\"].apply(hasEdit)\n",
    "X_train2['comment_has_likelove'] = X_train[\"comment_text\"].apply(hasLikeLove)\n",
    "X_train2['comment_neg_score'] = X_train[\"comment_text\"].apply(getNegScore)\n",
    "X_train2['comment_pos_score'] = X_train[\"comment_text\"].apply(getPosScore)\n",
    "X_train2['comment_neu_score'] = X_train[\"comment_text\"].apply(getNeuScore)\n",
    "\n",
    "X_test2['comment_num_swears'] = X_test[\"comment_text\"].apply(getNumSwears)\n",
    "X_test2['comment_num_you'] = X_test[\"comment_text\"].apply(getNumYou)\n",
    "X_test2['comment_has_edit'] = X_test[\"comment_text\"].apply(hasEdit)\n",
    "X_test2['comment_has_likelove'] = X_test[\"comment_text\"].apply(hasLikeLove)\n",
    "X_test2['comment_neg_score'] = X_test[\"comment_text\"].apply(getNegScore)\n",
    "X_test2['comment_pos_score'] = X_test[\"comment_text\"].apply(getPosScore)\n",
    "X_test2['comment_neu_score'] = X_test[\"comment_text\"].apply(getNeuScore)"
   ]
  },
  {
   "cell_type": "code",
   "execution_count": 287,
   "metadata": {},
   "outputs": [
    {
     "name": "stdout",
     "output_type": "stream",
     "text": [
      "[0.    0.    0.    0.    0.111 0.092 0.797]\n"
     ]
    },
    {
     "data": {
      "text/plain": [
       "(9.101340910056262, 12.700000000000001)"
      ]
     },
     "execution_count": 287,
     "metadata": {},
     "output_type": "execute_result"
    }
   ],
   "source": [
    "rf_model2, rf_pred2, rf_MSE2, rf_baselineMSE2 = trainRFReg(X_train2, y_train, X_test2, y_test)\n",
    "rf_MSE2, rf_baselineMSE2"
   ]
  },
  {
   "cell_type": "code",
   "execution_count": 296,
   "metadata": {},
   "outputs": [
    {
     "data": {
      "text/plain": [
       "(11.931207077352289, 12.700000000000001)"
      ]
     },
     "execution_count": 296,
     "metadata": {},
     "output_type": "execute_result"
    }
   ],
   "source": [
    "lin_model2, lin_pred2, lin_MSE2, lin_baselineMSE2 = trainLinReg(X_train2, y_train, X_test2, y_test)\n",
    "lin_MSE2, lin_baselineMSE2"
   ]
  },
  {
   "cell_type": "code",
   "execution_count": 288,
   "metadata": {},
   "outputs": [
    {
     "data": {
      "text/plain": [
       "array([0.01436947, 0.01757879, 0.05209148, 0.13281248, 0.22941988,\n",
       "       0.2549314 , 0.29879651])"
      ]
     },
     "execution_count": 288,
     "metadata": {},
     "output_type": "execute_result"
    }
   ],
   "source": [
    "rf_model2.feature_importances_"
   ]
  },
  {
   "cell_type": "code",
   "execution_count": 290,
   "metadata": {},
   "outputs": [
    {
     "data": {
      "text/plain": [
       "array([1.43341626])"
      ]
     },
     "execution_count": 290,
     "metadata": {},
     "output_type": "execute_result"
    }
   ],
   "source": [
    "inflammatoryComment = textToMatrix(\"your opinion sucks, stop posting on this site asshole\")\n",
    "rf_model.predict(inflammatoryComment)"
   ]
  },
  {
   "cell_type": "code",
   "execution_count": 291,
   "metadata": {},
   "outputs": [
    {
     "data": {
      "text/plain": [
       "array([0.31929478])"
      ]
     },
     "execution_count": 291,
     "metadata": {},
     "output_type": "execute_result"
    }
   ],
   "source": [
    "niceComment = textToMatrix(\"thats so cool! thanks for posting\")\n",
    "rf_model.predict(niceComment)"
   ]
  },
  {
   "cell_type": "code",
   "execution_count": 292,
   "metadata": {},
   "outputs": [
    {
     "data": {
      "text/plain": [
       "array([0.3635978])"
      ]
     },
     "execution_count": 292,
     "metadata": {},
     "output_type": "execute_result"
    }
   ],
   "source": [
    "neutralComment = textToMatrix(\"I'm not sure about that, I would have too look it up\")\n",
    "rf_model.predict(neutralComment)"
   ]
  }
 ],
 "metadata": {
  "kernelspec": {
   "display_name": "Python 3",
   "language": "python",
   "name": "python3"
  },
  "language_info": {
   "codemirror_mode": {
    "name": "ipython",
    "version": 3
   },
   "file_extension": ".py",
   "mimetype": "text/x-python",
   "name": "python",
   "nbconvert_exporter": "python",
   "pygments_lexer": "ipython3",
   "version": "3.6.3"
  }
 },
 "nbformat": 4,
 "nbformat_minor": 2
}
